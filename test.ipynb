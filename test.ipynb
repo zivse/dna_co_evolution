{
 "cells": [
  {
   "cell_type": "code",
   "execution_count": 1,
   "metadata": {},
   "outputs": [
    {
     "data": {
      "text/plain": [
       "<module 'check_results' from 'c:\\\\Users\\\\noam1\\\\Desktop\\\\Ziv Ribosome co-evolution project\\\\ribozom_protein_blast\\\\check_results.py'>"
      ]
     },
     "execution_count": 1,
     "metadata": {},
     "output_type": "execute_result"
    }
   ],
   "source": [
    "import check_results as cr\n",
    "import pandas as pd\n",
    "import os\n",
    "from importlib import reload\n",
    "\n",
    "reload(cr)"
   ]
  },
  {
   "cell_type": "code",
   "execution_count": 2,
   "metadata": {},
   "outputs": [
    {
     "name": "stdout",
     "output_type": "stream",
     "text": [
      "1089:2647:1\n",
      "rrnL starts at 1089 and ends at 2647 in the 1 strand\n",
      "1091:2648:1\n",
      "rrnL starts at 1091 and ends at 2648 in the 1 strand\n",
      "1094:2654:1\n",
      "rrnL starts at 1094 and ends at 2654 in the 1 strand\n",
      "1088:2650:1\n",
      "rrnL starts at 1088 and ends at 2650 in the 1 strand\n",
      "1624:3182:1\n",
      "rrnL starts at 1624 and ends at 3182 in the 1 strand\n",
      "1089:2655:1\n",
      "rrnL starts at 1089 and ends at 2655 in the 1 strand\n",
      "1673:3225:1\n",
      "rrnL starts at 1673 and ends at 3225 in the 1 strand\n",
      "1623:3181:1\n",
      "rrnL starts at 1623 and ends at 3181 in the 1 strand\n",
      "Could not find Piliocolobus tephrosceles in the table\n",
      "1090:2646:1\n",
      "rrnL starts at 1090 and ends at 2646 in the 1 strand\n"
     ]
    }
   ],
   "source": [
    "cr.gene_csv(gene = 'rrnL')"
   ]
  }
 ],
 "metadata": {
  "kernelspec": {
   "display_name": "Python 3.9.6 64-bit",
   "language": "python",
   "name": "python3"
  },
  "language_info": {
   "codemirror_mode": {
    "name": "ipython",
    "version": 3
   },
   "file_extension": ".py",
   "mimetype": "text/x-python",
   "name": "python",
   "nbconvert_exporter": "python",
   "pygments_lexer": "ipython3",
   "version": "3.9.6"
  },
  "orig_nbformat": 4,
  "vscode": {
   "interpreter": {
    "hash": "0c8114c9ee1d789647e076f118fa53ccc4fed877ba9aa024c4afffbe30d057eb"
   }
  }
 },
 "nbformat": 4,
 "nbformat_minor": 2
}
