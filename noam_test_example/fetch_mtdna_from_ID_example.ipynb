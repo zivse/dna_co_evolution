{
 "cells": [
  {
   "cell_type": "code",
   "execution_count": 4,
   "metadata": {},
   "outputs": [],
   "source": [
    "import os\n",
    "from Bio import Entrez, SeqIO\n",
    "\n",
    "PATH = os.getcwd()"
   ]
  },
  {
   "cell_type": "code",
   "execution_count": 2,
   "metadata": {},
   "outputs": [],
   "source": [
    "def record_check(ID, type = 'gb'):\n",
    "  \"\"\"\n",
    "  Check whether org genbank exists, if not download it, based on RefSeq ID.\n",
    "\n",
    "    Parameters\n",
    "    ----------\n",
    "    ID : str\n",
    "        ID of the organism.\n",
    "    type : str\n",
    "        Type of the record.\n",
    "        Default is 'gb'.\n",
    "        Other options are 'fasta'.\n",
    "  \"\"\"\n",
    "  suffix = '.gbk' if type == 'gb' else '.fasta'\n",
    "  loc = 'genbank_DB' if type == 'gb' else 'fasta_DB'\n",
    "  if not os.path.isdir(loc):\n",
    "    os.mkdir(loc) # create directory if it does not exist\n",
    "  filename = os.path.join(PATH, loc, ID + suffix)\n",
    "  if not os.path.isfile(filename):\n",
    "    print('Downloading ' + ID + '...')\n",
    "    net_handle = Entrez.efetch(db = 'nucleotide', id = ID, rettype = type, retmode = 'text')\n",
    "    out_handle = open(filename, 'w')\n",
    "    out_handle.write(net_handle.read())\n",
    "    net_handle.close()\n",
    "    out_handle.close()\n",
    "    print('Done')"
   ]
  },
  {
   "cell_type": "code",
   "execution_count": 15,
   "metadata": {},
   "outputs": [
    {
     "name": "stdout",
     "output_type": "stream",
     "text": [
      "Downloading NC_024511.2...\n",
      "Done\n",
      "rrnL starts at 9292 and ends at 10894 in the 1 strand\n",
      "AATTA\n"
     ]
    }
   ],
   "source": [
    "TEST_ID = 'NC_024511.2' # The organism ID (RefSeq)\n",
    "TEST_LOCS = ['10979:11957:1', '11965:12039:1', '12044:12115:-1', '12114:12183:1', '12183:13224:1', '13226:13296:1', '13297:13366:-1', '13372:13446:-1', '13448:13515:-1', '13514:13585:-1', '13586:15137:1', '15128:15201:-1', '15206:15276:1', '15284:15968:1', '15969:16039:1', '16040:16208:1', '16198:16882:1', '0:16946:1', '726:797:1', '796:1146:1', '1148:1218:1', '1219:1516:1', '1509:2887:1', '2887:2956:1', '2957:3023:1', '3020:3093:1', '3092:4910:1', '4920:6063:1', '6065:6139:1', '6144:6216:-1', '6224:6746:-1', '6746:6820:-1', '8175:8244:1', '8244:9222:1', '9222:9292:1', '9292:10894:1', '10894:10969:1'] # The organism gene locations (Gene_locations)\n",
    "TEST_ORDER = ['nad1', 'trnI', '-trnQ', 'trnM', 'nad2', 'trnW', '-trnA', '-trnN', '-trnC', '-trnY', 'cox1', '-trnS(UCN)', 'trnD', 'cox2', 'trnK', 'atp8', 'atp6', 'cox3', 'trnG', 'nad3', 'trnR', 'nad4L', 'nad4', 'trnH', 'trnS', 'trnL', 'nad5', 'cob', 'trnT', '-trnP', '-nad6', '-trnE', 'trnF', 'rrnS', 'trnV', 'rrnL', 'trnL(UUR)'] # The organism gene order (Gene_order)\n",
    "record_check(TEST_ID) # Use the above function to create the record for the organism if it does not exist (better to save handles if you have enough memory)\n",
    "record = SeqIO.read(os.path.join(PATH, 'genbank_DB', TEST_ID + '.gbk'), 'genbank') # Load the record file (genbank format)\n",
    "seq = record.seq # Isolate the mtDNA sequence (entire sequence)\n",
    "name = 'rrnL' # The gene name\n",
    "ind = TEST_ORDER.index(name) # The gene location based on the list of gene order\n",
    "loc = TEST_LOCS[ind] # The gene location based on the list of gene locations\n",
    "start, end, strand = loc.split(':') # Split the start, end and strand\n",
    "print(f'rrnL starts at {start} and ends at {end} in the {strand} strand') # Print the start and end location of the gene\n",
    "cur_seq = seq[int(start):int(end)].reverse_complement() # Reverse complement ONLY IF strand is -1\n",
    "with open('test_fasta.fasta', 'w') as fasta: # Write the sequence to a fasta file\n",
    "    fasta.write(f'>{TEST_ID}_{name}\\n{cur_seq}\\n') # This is just for one organism, need to do for all"
   ]
  },
  {
   "cell_type": "code",
   "execution_count": 12,
   "metadata": {},
   "outputs": [
    {
     "data": {
      "text/plain": [
       "Seq(None, length=16946)"
      ]
     },
     "execution_count": 12,
     "metadata": {},
     "output_type": "execute_result"
    }
   ],
   "source": []
  }
 ],
 "metadata": {
  "kernelspec": {
   "display_name": "Python 3.9.6 64-bit",
   "language": "python",
   "name": "python3"
  },
  "language_info": {
   "codemirror_mode": {
    "name": "ipython",
    "version": 3
   },
   "file_extension": ".py",
   "mimetype": "text/x-python",
   "name": "python",
   "nbconvert_exporter": "python",
   "pygments_lexer": "ipython3",
   "version": "3.9.6"
  },
  "orig_nbformat": 4,
  "vscode": {
   "interpreter": {
    "hash": "0c8114c9ee1d789647e076f118fa53ccc4fed877ba9aa024c4afffbe30d057eb"
   }
  }
 },
 "nbformat": 4,
 "nbformat_minor": 2
}